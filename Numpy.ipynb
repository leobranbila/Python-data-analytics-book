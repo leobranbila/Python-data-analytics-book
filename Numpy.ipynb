{
 "cells": [
  {
   "cell_type": "markdown",
   "metadata": {},
   "source": [
    "# Cap 03 - The Numpy Library"
   ]
  },
  {
   "cell_type": "code",
   "execution_count": null,
   "metadata": {},
   "outputs": [],
   "source": [
    "# Imports\n",
    "import numpy as np"
   ]
  },
  {
   "cell_type": "code",
   "execution_count": null,
   "metadata": {},
   "outputs": [
    {
     "data": {
      "text/plain": [
       "array([1, 2, 3])"
      ]
     },
     "execution_count": 3,
     "metadata": {},
     "output_type": "execute_result"
    }
   ],
   "source": [
    "# ndarray -> n-dimensional array\n",
    "a = np.array([1,2,3])\n",
    "a"
   ]
  },
  {
   "cell_type": "code",
   "execution_count": 4,
   "metadata": {},
   "outputs": [
    {
     "data": {
      "text/plain": [
       "dtype('int64')"
      ]
     },
     "execution_count": 4,
     "metadata": {},
     "output_type": "execute_result"
    }
   ],
   "source": [
    "a.dtype"
   ]
  },
  {
   "cell_type": "code",
   "execution_count": null,
   "metadata": {},
   "outputs": [
    {
     "name": "stdout",
     "output_type": "stream",
     "text": [
      "1\n",
      "3\n",
      "(3,)\n"
     ]
    }
   ],
   "source": [
    "# Dimensão do array\n",
    "print(a.ndim)\n",
    "# Size of array with 3 values\n",
    "print(a.size)\n",
    "# The format of the array, showing that it has only three values ​​in \"row\" and no values ​​in \"column\"\n",
    "print(a.shape)"
   ]
  },
  {
   "cell_type": "code",
   "execution_count": null,
   "metadata": {},
   "outputs": [
    {
     "name": "stdout",
     "output_type": "stream",
     "text": [
      "float64\n",
      "2\n",
      "4\n",
      "(2, 2)\n"
     ]
    }
   ],
   "source": [
    "# Creating a matrix\n",
    "b = np.array([[1.3, 2.4],[0.3, 4.1]])\n",
    "print(b.dtype)\n",
    "print(b.ndim)\n",
    "print(b.size)\n",
    "print(b.shape)"
   ]
  },
  {
   "cell_type": "code",
   "execution_count": null,
   "metadata": {},
   "outputs": [
    {
     "name": "stdout",
     "output_type": "stream",
     "text": [
      "8\n",
      "<memory at 0x0000028DACB4BE00>\n"
     ]
    }
   ],
   "source": [
    "# Size in bytes\n",
    "print(b.itemsize) \n",
    "# Location in the memory\n",
    "print(b.data)"
   ]
  },
  {
   "cell_type": "code",
   "execution_count": 37,
   "metadata": {},
   "outputs": [
    {
     "name": "stdout",
     "output_type": "stream",
     "text": [
      "[[1 2 3]\n",
      " [4 5 6]] \n",
      "\n",
      "[[1 2 3]\n",
      " [4 5 6]\n",
      " [7 8 9]]\n"
     ]
    }
   ],
   "source": [
    "# The array() function, in addition to lists, can accept tuples and sequences of tuples.\n",
    "c = np.array(((1,2,3),(4,5,6)))\n",
    "# It can also accept sequences of tuples and interconnected lists.\n",
    "d = np.array([(1,2,3),[4,5,6],(7,8,9)])\n",
    "\n",
    "print(c,'\\n')\n",
    "print(d)"
   ]
  },
  {
   "cell_type": "code",
   "execution_count": null,
   "metadata": {},
   "outputs": [
    {
     "data": {
      "text/plain": [
       "array([['a', 'b'],\n",
       "       ['c', 'd']], dtype='<U1')"
      ]
     },
     "execution_count": 16,
     "metadata": {},
     "output_type": "execute_result"
    }
   ],
   "source": [
    "# remembering we can use string type too.\n",
    "# all supported types are in Python Data Analytics With Pandas, Numpy, and Matplotlib.docx.\n",
    "e = np.array([['a','b'],['c','d']])\n",
    "e"
   ]
  },
  {
   "cell_type": "code",
   "execution_count": 2,
   "metadata": {},
   "outputs": [
    {
     "data": {
      "text/plain": [
       "array([[1.+0.j, 2.+0.j, 3.+0.j],\n",
       "       [4.+0.j, 5.+0.j, 6.+0.j]])"
      ]
     },
     "execution_count": 2,
     "metadata": {},
     "output_type": "execute_result"
    }
   ],
   "source": [
    "# For set a type to your list or tuples\n",
    "f = np.array( [ [1,2,3],[4,5,6] ], dtype=complex )\n",
    "f"
   ]
  },
  {
   "cell_type": "code",
   "execution_count": null,
   "metadata": {},
   "outputs": [
    {
     "data": {
      "text/plain": [
       "array([[0., 0., 0.],\n",
       "       [0., 0., 0.],\n",
       "       [0., 0., 0.]])"
      ]
     },
     "execution_count": 5,
     "metadata": {},
     "output_type": "execute_result"
    }
   ],
   "source": [
    "# The zeros() function, for example, creates a full array of zeros with dimensions\n",
    "# defined by the shape argument. For example, to create a two-dimensional array 3x3,\n",
    "# you can use:\n",
    "np.zeros((3,3))"
   ]
  },
  {
   "cell_type": "code",
   "execution_count": null,
   "metadata": {},
   "outputs": [
    {
     "data": {
      "text/plain": [
       "array([[1., 1., 1.],\n",
       "       [1., 1., 1.],\n",
       "       [1., 1., 1.]])"
      ]
     },
     "execution_count": 7,
     "metadata": {},
     "output_type": "execute_result"
    }
   ],
   "source": [
    "# While the ones() function:\n",
    "np.ones((3,3))"
   ]
  },
  {
   "cell_type": "code",
   "execution_count": 36,
   "metadata": {},
   "outputs": [
    {
     "name": "stdout",
     "output_type": "stream",
     "text": [
      "[0 1 2 3 4 5 6 7 8 9]\n",
      "[4 5 6 7 8 9] \n",
      "\n",
      "[ 0  1  2  3  4  5  6  7  8  9 10]\n",
      "[ 4  5  6  7  8  9 10]\n"
     ]
    }
   ],
   "source": [
    "# arange() function generates NumPy arrays\n",
    "# with numerical sequences that respond to particular rules depending on the passed\n",
    "# arguments:\n",
    "print(np.arange(0,10))\n",
    "print(np.arange(4,10), '\\n')\n",
    "print(np.arange(0,11))\n",
    "print(np.arange(4,11))"
   ]
  },
  {
   "cell_type": "code",
   "execution_count": null,
   "metadata": {},
   "outputs": [
    {
     "data": {
      "text/plain": [
       "array([ 0,  2,  4,  6,  8, 10])"
      ]
     },
     "execution_count": 12,
     "metadata": {},
     "output_type": "execute_result"
    }
   ],
   "source": [
    "# It is also possible to generate a sequence of values with precise intervals between them\n",
    "# adding the third argument:\n",
    "np.arange(0,11,2)\n",
    "# In addition, this third argument can also be a float."
   ]
  },
  {
   "cell_type": "code",
   "execution_count": 16,
   "metadata": {},
   "outputs": [
    {
     "data": {
      "text/plain": [
       "array([[ 0,  1,  2,  3],\n",
       "       [ 4,  5,  6,  7],\n",
       "       [ 8,  9, 10, 11]])"
      ]
     },
     "execution_count": 16,
     "metadata": {},
     "output_type": "execute_result"
    }
   ],
   "source": [
    "# reshape() function divides a linear array in different parts in the manner\n",
    "# specified by the shape argument:\n",
    "np.arange(0,12).reshape(3,4)"
   ]
  },
  {
   "cell_type": "code",
   "execution_count": 3,
   "metadata": {},
   "outputs": [
    {
     "data": {
      "text/plain": [
       "array([[ 0,  1,  2,  3],\n",
       "       [ 4,  5,  6,  7],\n",
       "       [ 8,  9, 10, 11]])"
      ]
     },
     "execution_count": 3,
     "metadata": {},
     "output_type": "execute_result"
    }
   ],
   "source": [
    "# Remembering that to cut the array, the values ​​must be divisible by the size of the array\n",
    "# or you will get a error: \"cannot reshape array of size 11 into shape (3,4)\"\n",
    "np.arange(0,12).reshape(3,4)"
   ]
  },
  {
   "cell_type": "code",
   "execution_count": 19,
   "metadata": {},
   "outputs": [
    {
     "data": {
      "text/plain": [
       "array([ 0,  2,  5,  8, 11])"
      ]
     },
     "execution_count": 19,
     "metadata": {},
     "output_type": "execute_result"
    }
   ],
   "source": [
    "# linspace() function the third argument defines the\n",
    "# number of elements into which we want the interval to be split.\n",
    "np.linspace(0,11,5, dtype=int)"
   ]
  },
  {
   "cell_type": "code",
   "execution_count": 35,
   "metadata": {},
   "outputs": [
    {
     "name": "stdout",
     "output_type": "stream",
     "text": [
      "[0.86627533 0.34843748 0.65692947] \n",
      "\n",
      "[[0.72990689 0.87374301 0.90667513]\n",
      " [0.9140526  0.31783006 0.40313131]\n",
      " [0.60395049 0.52680533 0.22082555]]\n"
     ]
    }
   ],
   "source": [
    "# random functon:\n",
    "print(np.random.random(3), '\\n')\n",
    "print(np.random.random((3,3)))"
   ]
  },
  {
   "cell_type": "markdown",
   "metadata": {},
   "source": [
    "### Basic Operations"
   ]
  },
  {
   "cell_type": "code",
   "execution_count": 4,
   "metadata": {},
   "outputs": [
    {
     "name": "stdout",
     "output_type": "stream",
     "text": [
      "[1 2 3 4] \n",
      "\n",
      "Add:  [5 6 7 8]\n",
      "Sub:  [-3 -2 -1  0]\n",
      "Multi:  [ 4  8 12 16]\n",
      "Div:  [0.25 0.5  0.75 1.  ]\n"
     ]
    }
   ],
   "source": [
    "# arithmetic operators\n",
    "a = np.arange(1,5)\n",
    "print(a, '\\n')\n",
    "print('Add: ', a + 4)\n",
    "print('Sub: ', a - 4)\n",
    "print('Multi: ', a * 4)\n",
    "print('Div: ', a / 4)"
   ]
  },
  {
   "cell_type": "code",
   "execution_count": 5,
   "metadata": {},
   "outputs": [
    {
     "name": "stdout",
     "output_type": "stream",
     "text": [
      "[5 6 7 8]\n",
      "Add:  [ 6  8 10 12]\n",
      "Sub:  [-4 -4 -4 -4]\n",
      "Multi:  [ 5 12 21 32]\n",
      "Div:  [0.2        0.33333333 0.42857143 0.5       ]\n"
     ]
    }
   ],
   "source": [
    "# These operators can also be used between two arrays. In NumPy, these operations\n",
    "# are element-wise, that is, the operators are applied only between corresponding\n",
    "# elements. These are objects that occupy the same position, so that the end result will be\n",
    "# a new array containing the results in the same location of the operands.\n",
    "b = np.arange(5, 9)\n",
    "print( b )\n",
    "print('Add: ', a + b)\n",
    "print('Sub: ', a - b)\n",
    "print('Multi: ', a * b)\n",
    "print('Div: ', a / b)\n"
   ]
  },
  {
   "cell_type": "code",
   "execution_count": 45,
   "metadata": {},
   "outputs": [
    {
     "name": "stdout",
     "output_type": "stream",
     "text": [
      "[-0.95892427 -0.558831    1.9709598   3.95743299] \n",
      "\n",
      "[ 2.23606798  4.89897949  7.93725393 11.3137085 ]\n"
     ]
    }
   ],
   "source": [
    "# these operators are also available for functions, provided that the value\n",
    "# returned is a NumPy array\n",
    "print(a * np.sin(b), '\\n')\n",
    "print(a * np.sqrt(b))"
   ]
  },
  {
   "cell_type": "code",
   "execution_count": 26,
   "metadata": {},
   "outputs": [
    {
     "data": {
      "text/plain": [
       "array([[1, 2, 3],\n",
       "       [4, 5, 6],\n",
       "       [7, 8, 9]])"
      ]
     },
     "execution_count": 26,
     "metadata": {},
     "output_type": "execute_result"
    }
   ],
   "source": [
    "# Moving on to the multidimensional case, even here the arithmetic operators\n",
    "# continue to operate element-wise\n",
    "A = np.arange(0,9).reshape(3,3)\n",
    "B = np.ones((3,3), dtype=int)\n",
    "A+B"
   ]
  },
  {
   "cell_type": "code",
   "execution_count": 27,
   "metadata": {},
   "outputs": [
    {
     "name": "stdout",
     "output_type": "stream",
     "text": [
      "[[ 2  3  4]\n",
      " [ 5  6  7]\n",
      " [ 8  9 10]] \n",
      "\n",
      "[[-2 -2 -2]\n",
      " [-2 -2 -2]\n",
      " [-2 -2 -2]] \n",
      "\n",
      "[[ 0  2  4]\n",
      " [ 6  8 10]\n",
      " [12 14 16]]\n"
     ]
    }
   ],
   "source": [
    "# Increment and Decrement Operators\n",
    "A += 2\n",
    "print(A, '\\n')\n",
    "B -= 3\n",
    "print(B, '\\n')\n",
    "C = np.arange(0,9).reshape(3,3)\n",
    "C *= 2\n",
    "print(C)"
   ]
  },
  {
   "cell_type": "code",
   "execution_count": 29,
   "metadata": {},
   "outputs": [
    {
     "name": "stdout",
     "output_type": "stream",
     "text": [
      "square root: [1.         1.41421356 1.73205081 2.        ]\n",
      "logarithm: [0.         0.69314718 1.09861229 1.38629436]\n",
      "sin: [ 0.84147098  0.90929743  0.14112001 -0.7568025 ]\n"
     ]
    }
   ],
   "source": [
    "# Universal Functions (ufunc)\n",
    "# A universal function, generally called ufunc, is a function operating on an array in an\n",
    "# element-by-element\n",
    "a = np.arange(1,5)\n",
    "print('square root:', np.sqrt(a))\n",
    "print('logarithm:', np.log(a))\n",
    "print('sin:', np.sin(a))\n"
   ]
  },
  {
   "cell_type": "code",
   "execution_count": 32,
   "metadata": {},
   "outputs": [
    {
     "name": "stdout",
     "output_type": "stream",
     "text": [
      "[3.3 4.5 1.2 5.7 0.3] \n",
      "\n",
      "Sum: 15.0\n",
      "Min: 0.3\n",
      "Max: 5.7\n",
      "Mean: 3.0\n",
      "Std: 2.0079840636817816\n"
     ]
    }
   ],
   "source": [
    "# Aggregate Functions\n",
    "# Aggregate functions perform an operation on a set of values, an array for example, and\n",
    "# produce a single result.\n",
    "a = np.array([3.3, 4.5, 1.2, 5.7, 0.3])\n",
    "print(a, '\\n')\n",
    "print('Sum:', a.sum())\n",
    "print('Min:', a.min())\n",
    "print('Max:', a.max())\n",
    "print('Mean:', a.mean())\n",
    "print('Std:', a.std())\n"
   ]
  },
  {
   "cell_type": "code",
   "execution_count": 2,
   "metadata": {},
   "outputs": [
    {
     "name": "stdout",
     "output_type": "stream",
     "text": [
      "[11 12 13 14]\n",
      "[11 13]\n"
     ]
    }
   ],
   "source": [
    "# Indexing, Slicing, and Iterating\n",
    "a = np.arange(10, 20)\n",
    "print(a[1:5])\n",
    "print(a[1:5:2])"
   ]
  },
  {
   "cell_type": "code",
   "execution_count": 3,
   "metadata": {},
   "outputs": [
    {
     "name": "stdout",
     "output_type": "stream",
     "text": [
      "[11 13]\n",
      "[10 12 14 16 18]\n",
      "[10 12 14]\n",
      "[10 11 12 13 14]\n"
     ]
    }
   ],
   "source": [
    "print(a[1:5:2])\n",
    "print(a[::2])\n",
    "print(a[:5:2])\n",
    "print(a[:5:])"
   ]
  },
  {
   "cell_type": "code",
   "execution_count": 7,
   "metadata": {},
   "outputs": [
    {
     "name": "stdout",
     "output_type": "stream",
     "text": [
      "[[10 11 12]\n",
      " [13 14 15]\n",
      " [16 17 18]] \n",
      "\n",
      "Just the first row:  [10 11 12]\n",
      "Just the first Column:  [10 13 16]\n"
     ]
    }
   ],
   "source": [
    "# In the case of a two-dimensional array:\n",
    "A = np.arange(10,19).reshape((3,3))\n",
    "print(A, '\\n')\n",
    "print('Just the first row: ', A[0,:])\n",
    "print('Just the first Column: ', A[:,0])"
   ]
  },
  {
   "cell_type": "code",
   "execution_count": 8,
   "metadata": {},
   "outputs": [
    {
     "data": {
      "text/plain": [
       "array([[10, 11],\n",
       "       [13, 14]])"
      ]
     },
     "execution_count": 8,
     "metadata": {},
     "output_type": "execute_result"
    }
   ],
   "source": [
    "# extracting a smaller matrix\n",
    "A[0:2, 0:2]"
   ]
  },
  {
   "cell_type": "code",
   "execution_count": null,
   "metadata": {},
   "outputs": [
    {
     "name": "stdout",
     "output_type": "stream",
     "text": [
      "[10 11 12]\n",
      "[13 14 15]\n",
      "[16 17 18]\n",
      "\n",
      "10\n",
      "11\n",
      "12\n",
      "13\n",
      "14\n",
      "15\n",
      "16\n",
      "17\n",
      "18\n"
     ]
    }
   ],
   "source": [
    "# There are two ways to go through the matrix, one of them is printing line by line \n",
    "# completely and the other is using the flat method to print element by element.\n",
    "# 1º\n",
    "for row in A:\n",
    "    print(row)\n",
    "print()    \n",
    "# 2º\n",
    "for item in A.flat:\n",
    "    print(item)"
   ]
  },
  {
   "cell_type": "code",
   "execution_count": 16,
   "metadata": {},
   "outputs": [
    {
     "name": "stdout",
     "output_type": "stream",
     "text": [
      "[[10 11 12]\n",
      " [13 14 15]\n",
      " [16 17 18]] \n",
      "\n",
      "[13. 14. 15.]\n",
      "[11. 14. 17.]\n"
     ]
    }
   ],
   "source": [
    "# Traversing the array in a more elegant way with a native numpy function:\n",
    "# Calculating the average values first by column and then by row\n",
    "print(A, '\\n')\n",
    "print(np.apply_along_axis(np.mean, axis=0, arr=A))\n",
    "\n",
    "print(np.apply_along_axis(np.mean, axis=1, arr=A))"
   ]
  },
  {
   "cell_type": "code",
   "execution_count": 17,
   "metadata": {},
   "outputs": [],
   "source": [
    "def foo(x):\n",
    " return x/2"
   ]
  },
  {
   "cell_type": "code",
   "execution_count": 19,
   "metadata": {},
   "outputs": [
    {
     "name": "stdout",
     "output_type": "stream",
     "text": [
      "[[5.  5.5 6. ]\n",
      " [6.5 7.  7.5]\n",
      " [8.  8.5 9. ]]\n",
      "\n",
      "[[5.  5.5 6. ]\n",
      " [6.5 7.  7.5]\n",
      " [8.  8.5 9. ]]\n"
     ]
    }
   ],
   "source": [
    "print(np.apply_along_axis(foo, axis=1, arr=A))\n",
    "print()\n",
    "print(np.apply_along_axis(foo, axis=0, arr=A))"
   ]
  },
  {
   "cell_type": "markdown",
   "metadata": {},
   "source": [
    "### Conditions and Boolean Arrays"
   ]
  },
  {
   "cell_type": "code",
   "execution_count": 3,
   "metadata": {},
   "outputs": [
    {
     "data": {
      "text/plain": [
       "array([[0.01495975, 0.36799583, 0.53390223, 0.70885788],\n",
       "       [0.09358262, 0.89420981, 0.25256544, 0.29001822],\n",
       "       [0.35496044, 0.51599453, 0.21995106, 0.1277313 ],\n",
       "       [0.75477294, 0.52256646, 0.96868286, 0.0206336 ]])"
      ]
     },
     "execution_count": 3,
     "metadata": {},
     "output_type": "execute_result"
    }
   ],
   "source": [
    "A = np.random.random((4,4))\n",
    "A"
   ]
  },
  {
   "cell_type": "code",
   "execution_count": 5,
   "metadata": {},
   "outputs": [
    {
     "data": {
      "text/plain": [
       "array([[ True,  True, False, False],\n",
       "       [ True, False,  True,  True],\n",
       "       [ True, False,  True,  True],\n",
       "       [False, False, False,  True]])"
      ]
     },
     "execution_count": 5,
     "metadata": {},
     "output_type": "execute_result"
    }
   ],
   "source": [
    "A < 0.5"
   ]
  },
  {
   "cell_type": "code",
   "execution_count": 6,
   "metadata": {},
   "outputs": [
    {
     "data": {
      "text/plain": [
       "array([0.01495975, 0.36799583, 0.09358262, 0.25256544, 0.29001822,\n",
       "       0.35496044, 0.21995106, 0.1277313 , 0.0206336 ])"
      ]
     },
     "execution_count": 6,
     "metadata": {},
     "output_type": "execute_result"
    }
   ],
   "source": [
    "# inserting the previous condition directly inside the square brackets,\n",
    "# you will extract all elements smaller than 0.5, so as to obtain a new array\n",
    "A [A < 0.5]"
   ]
  },
  {
   "cell_type": "markdown",
   "metadata": {},
   "source": [
    "### Shape Manipulation"
   ]
  },
  {
   "cell_type": "code",
   "execution_count": 3,
   "metadata": {},
   "outputs": [
    {
     "name": "stdout",
     "output_type": "stream",
     "text": [
      "[0.81596912 0.88890246 0.11396472 0.13969635 0.92803776 0.68228102\n",
      " 0.19776702 0.18125685 0.18545605 0.34224896 0.63031597 0.51572866] \n",
      "\n",
      "[[0.81596912 0.88890246 0.11396472 0.13969635]\n",
      " [0.92803776 0.68228102 0.19776702 0.18125685]\n",
      " [0.18545605 0.34224896 0.63031597 0.51572866]]\n"
     ]
    }
   ],
   "source": [
    "a = np.random.random(12)\n",
    "print(a, '\\n')\n",
    "A = a.reshape(3, 4)\n",
    "print(A)"
   ]
  },
  {
   "cell_type": "code",
   "execution_count": null,
   "metadata": {},
   "outputs": [
    {
     "data": {
      "text/plain": [
       "array([0.81596912, 0.88890246, 0.11396472, 0.13969635, 0.92803776,\n",
       "       0.68228102, 0.19776702, 0.18125685, 0.18545605, 0.34224896,\n",
       "       0.63031597, 0.51572866])"
      ]
     },
     "execution_count": 4,
     "metadata": {},
     "output_type": "execute_result"
    }
   ],
   "source": [
    "# You can convert a two-dimensional array into a one-dimensional array, by using the ravel() function\n",
    "a = a.ravel()\n",
    "a"
   ]
  },
  {
   "cell_type": "code",
   "execution_count": 6,
   "metadata": {},
   "outputs": [
    {
     "data": {
      "text/plain": [
       "array([0.81596912, 0.88890246, 0.11396472, 0.13969635, 0.92803776,\n",
       "       0.68228102, 0.19776702, 0.18125685, 0.18545605, 0.34224896,\n",
       "       0.63031597, 0.51572866])"
      ]
     },
     "execution_count": 6,
     "metadata": {},
     "output_type": "execute_result"
    }
   ],
   "source": [
    "# Or even here acting directly on the shape attribute of the array itself.\n",
    "a.shape = (12)\n",
    "a"
   ]
  },
  {
   "cell_type": "markdown",
   "metadata": {},
   "source": [
    "### Array Manipulation"
   ]
  },
  {
   "cell_type": "code",
   "execution_count": 17,
   "metadata": {},
   "outputs": [
    {
     "name": "stdout",
     "output_type": "stream",
     "text": [
      "[[0. 0. 0.]\n",
      " [0. 0. 0.]\n",
      " [0. 0. 0.]\n",
      " [1. 1. 1.]\n",
      " [1. 1. 1.]\n",
      " [1. 1. 1.]] \n",
      "\n",
      "[[0. 0. 0. 1. 1. 1.]\n",
      " [0. 0. 0. 1. 1. 1.]\n",
      " [0. 0. 0. 1. 1. 1.]]\n"
     ]
    }
   ],
   "source": [
    "# Joining Arrays\n",
    "# stacking, you can perform vertical stacking with the vstack() function\n",
    "# and the hstack() performs horizontal\n",
    "\n",
    "A = np.zeros((3,3))\n",
    "B = np.ones((3,3))\n",
    "print(np.vstack((A,B)),'\\n')\n",
    "print(np.hstack((A,B)))"
   ]
  },
  {
   "cell_type": "code",
   "execution_count": null,
   "metadata": {},
   "outputs": [
    {
     "name": "stdout",
     "output_type": "stream",
     "text": [
      "[[0 3 6]\n",
      " [1 4 7]\n",
      " [2 5 8]] \n",
      "\n",
      "[[0 1 2]\n",
      " [3 4 5]\n",
      " [6 7 8]]\n"
     ]
    },
    {
     "name": "stderr",
     "output_type": "stream",
     "text": [
      "C:\\Users\\Admin\\AppData\\Local\\Temp\\ipykernel_13296\\4286013636.py:8: DeprecationWarning: `row_stack` alias is deprecated. Use `np.vstack` directly.\n",
      "  print(np.row_stack((a, b, c)))\n"
     ]
    }
   ],
   "source": [
    "# Two other functions performing stacking between multiple arrays are column_stack() and row_stack().\n",
    "# Which are stacked as columns or rows in order to form a new two-dimensional array\n",
    "\n",
    "a = np.array([0, 1, 2])\n",
    "b = np.array([3, 4, 5])\n",
    "c = np.array([6, 7, 8])\n",
    "print(np.column_stack((a, b, c)), '\\n')\n",
    "print(np.row_stack((a, b, c)))"
   ]
  },
  {
   "cell_type": "markdown",
   "metadata": {},
   "source": [
    "### Splitting Arrays"
   ]
  },
  {
   "cell_type": "code",
   "execution_count": null,
   "metadata": {},
   "outputs": [
    {
     "data": {
      "text/plain": [
       "array([[ 0,  1,  2,  3],\n",
       "       [ 4,  5,  6,  7],\n",
       "       [ 8,  9, 10, 11],\n",
       "       [12, 13, 14, 15]])"
      ]
     },
     "execution_count": 20,
     "metadata": {},
     "output_type": "execute_result"
    }
   ],
   "source": [
    "# You have a set of functions that work both horizontally with the hsplit()\n",
    "# Function and vertically with the vsplit() function.\n",
    "\n",
    "A = np.arange(16).reshape(4,4)\n",
    "A"
   ]
  },
  {
   "cell_type": "code",
   "execution_count": 21,
   "metadata": {},
   "outputs": [
    {
     "name": "stdout",
     "output_type": "stream",
     "text": [
      "[[ 0  1]\n",
      " [ 4  5]\n",
      " [ 8  9]\n",
      " [12 13]] \n",
      "\n",
      "[[ 2  3]\n",
      " [ 6  7]\n",
      " [10 11]\n",
      " [14 15]]\n"
     ]
    }
   ],
   "source": [
    "# If you want to split the array horizontally, meaning the width of the array is\n",
    "# Divided into two parts, the 4x4 matrix A will be split into two 2x4 matrices.\n",
    "\n",
    "[B,C] = np.hsplit(A, 2)\n",
    "print(B,'\\n')\n",
    "print(C)"
   ]
  },
  {
   "cell_type": "code",
   "execution_count": null,
   "metadata": {},
   "outputs": [
    {
     "name": "stdout",
     "output_type": "stream",
     "text": [
      "[[0 1 2 3]\n",
      " [4 5 6 7]] \n",
      "\n",
      "[[ 8  9 10 11]\n",
      " [12 13 14 15]]\n"
     ]
    }
   ],
   "source": [
    "# the height of the array is divided into two parts, the 4x4 matrix A will be split into two 4x2 matrices\n",
    "\n",
    "[B,C] = np.vsplit(A, 2)\n",
    "print(B,'\\n')\n",
    "print(C)"
   ]
  },
  {
   "cell_type": "markdown",
   "metadata": {},
   "source": [
    "#### Split"
   ]
  },
  {
   "cell_type": "code",
   "execution_count": null,
   "metadata": {},
   "outputs": [
    {
     "name": "stdout",
     "output_type": "stream",
     "text": [
      "[[ 0]\n",
      " [ 4]\n",
      " [ 8]\n",
      " [12]]\n",
      "[[ 1  2]\n",
      " [ 5  6]\n",
      " [ 9 10]\n",
      " [13 14]]\n",
      "[[ 3]\n",
      " [ 7]\n",
      " [11]\n",
      " [15]]\n"
     ]
    }
   ],
   "source": [
    "\n",
    "# If you use the option axis = 1, then the indexes will be columns; if instead the option is axis = 0, \n",
    "# then they will be row indexes.\n",
    "# For example, if you want to divide the matrix into three parts:\n",
    "\n",
    "[A1,A2,A3] = np.split(A,[1,3], axis=1)\n",
    "print(A1)\n",
    "print(A2)\n",
    "print(A3)\n"
   ]
  },
  {
   "cell_type": "markdown",
   "metadata": {},
   "source": [
    "#### Dividing by row"
   ]
  },
  {
   "cell_type": "code",
   "execution_count": null,
   "metadata": {},
   "outputs": [
    {
     "name": "stdout",
     "output_type": "stream",
     "text": [
      "[[0 1 2 3]]\n",
      "[[ 4  5  6  7]\n",
      " [ 8  9 10 11]]\n",
      "[[12 13 14 15]]\n"
     ]
    }
   ],
   "source": [
    "[A1,A2,A3] = np.split(A,[1,3], axis=0)\n",
    "print(A1)\n",
    "print(A2)\n",
    "print(A3)\n",
    "\n",
    "# This feature also includes the functionalities of the vsplit() and hsplit() functions."
   ]
  },
  {
   "cell_type": "markdown",
   "metadata": {},
   "source": [
    "### Copies or Views of Objects"
   ]
  },
  {
   "cell_type": "code",
   "execution_count": 28,
   "metadata": {},
   "outputs": [
    {
     "name": "stdout",
     "output_type": "stream",
     "text": [
      "[1 2 3 4] \n",
      "\n",
      "[1 2 0 4]\n"
     ]
    }
   ],
   "source": [
    "# Numpy basically creates a view of your array, or BASICALLY a pointer to where your array is.\n",
    "\n",
    "a = np.array([1,2,3,4])\n",
    "b = a\n",
    "print(b,'\\n')\n",
    "\n",
    "a[2] = 0\n",
    "print(b)\n"
   ]
  },
  {
   "cell_type": "code",
   "execution_count": null,
   "metadata": {},
   "outputs": [
    {
     "name": "stdout",
     "output_type": "stream",
     "text": [
      "[1 2]\n",
      "[0 2]\n"
     ]
    }
   ],
   "source": [
    "# Whether you pass the array as above or just pass the sliced ​​value of this array, \n",
    "# it is just a view of the original and not a copy.\n",
    "\n",
    "c = a[0:2]\n",
    "print(c)\n",
    "\n",
    "a[0] = 0\n",
    "print(c)"
   ]
  },
  {
   "cell_type": "code",
   "execution_count": 32,
   "metadata": {},
   "outputs": [
    {
     "name": "stdout",
     "output_type": "stream",
     "text": [
      "[1 2 3 4]\n",
      "[1 2 3 4] \n",
      "\n",
      "[0 2 3 4]\n",
      "[1 2 3 4]\n"
     ]
    }
   ],
   "source": [
    "# Now if you really want a copy of the array a, just use the copy() function.\n",
    "\n",
    "a = np.array([1,2,3,4])\n",
    "c = a.copy()\n",
    "print(a)\n",
    "print(c, '\\n')\n",
    "\n",
    "a[0] = 0\n",
    "print(a)\n",
    "print(c)\n"
   ]
  },
  {
   "cell_type": "markdown",
   "metadata": {},
   "source": [
    "#### Vectorization"
   ]
  },
  {
   "cell_type": "code",
   "execution_count": null,
   "metadata": {},
   "outputs": [
    {
     "name": "stdout",
     "output_type": "stream",
     "text": [
      "[ 0  4  0 16] \n",
      "\n",
      "[[  0   1   4   9]\n",
      " [ 16  25  36  49]\n",
      " [ 64  81 100 121]\n",
      " [144 169 196 225]]\n"
     ]
    }
   ],
   "source": [
    "# Vectorization, along with the broadcasting, is the basis of the internal implementation\n",
    "# of NumPy. Vectorization is the absence of an explicit loop during the developing of the\n",
    "# code.\n",
    "\n",
    "# For example, NumPy allows you to express the multiplication\n",
    "# of two arrays Or even two matrices shown:\n",
    "\n",
    "print (a * b, '\\n')\n",
    "B = A\n",
    "print (A * B)\n",
    "\n",
    "# If it weren't for the ease of numpy's vectorization, we would have to do these calculations \n",
    "# in a more \"extensive\" way using a for loop.\n"
   ]
  },
  {
   "cell_type": "markdown",
   "metadata": {},
   "source": [
    "#### Broadcasting\n"
   ]
  },
  {
   "cell_type": "code",
   "execution_count": null,
   "metadata": {},
   "outputs": [],
   "source": [
    "#  It is basically a way for numpy to perform (in the background) operations\n",
    "#  between arrays with different dimensions, where it, for example, autocompletes \n",
    "#  the array with the smallest dimension to match the other or others and thus be\n",
    "#  able to perform the desired operation, such as addition or multiplication."
   ]
  },
  {
   "cell_type": "markdown",
   "metadata": {},
   "source": [
    "#### Structured Arrays"
   ]
  },
  {
   "cell_type": "code",
   "execution_count": null,
   "metadata": {},
   "outputs": [
    {
     "data": {
      "text/plain": [
       "array([(1, b'First', 0.5, 1.+2.j), (2, b'Second', 1.3, 2.-2.j),\n",
       "       (3, b'Third', 0.8, 1.+3.j)],\n",
       "      dtype=[('f0', '<i2'), ('f1', 'S6'), ('f2', '<f4'), ('f3', '<c8')])"
      ]
     },
     "execution_count": 4,
     "metadata": {},
     "output_type": "execute_result"
    }
   ],
   "source": [
    "# This type of array contains structs or records instead of individual items.\n",
    "# For example, if you want to specify a struct consisting of an integer, a character\n",
    "# string of length 6 and a Boolean value, you will specify the three types of data in the\n",
    "# dtype option with the right order using the corresponding specifiers.\n",
    "\n",
    "# bytes b1\n",
    "# int i1, i2, i4, i8\n",
    "# unsigned ints u1, u2, u4, u8\n",
    "# floats f2, f4, f8\n",
    "# complex c8, c16\n",
    "# fixed length strings a<n>\n",
    "\n",
    "#Below, the s type is a new a (fixed length strings), a was depreciated in numpy 2.0\n",
    "structured = np.array([(1, 'First', 0.5, 1+2j),(2, 'Second', 1.3,\n",
    "2-2j), (3, 'Third', 0.8, 1+3j)],dtype=('i2, S6, f4, c8'))\n",
    "\n",
    "structured"
   ]
  },
  {
   "cell_type": "code",
   "execution_count": 10,
   "metadata": {},
   "outputs": [
    {
     "data": {
      "text/plain": [
       "array([(1, b'First', 0.5, 1.+2.j), (2, b'Second', 1.3, 2.-2.j),\n",
       "       (3, b'Third', 0.8, 1.+3.j)],\n",
       "      dtype=[('f0', '<i2'), ('f1', 'S6'), ('f2', '<f4'), ('f3', '<c8')])"
      ]
     },
     "execution_count": 10,
     "metadata": {},
     "output_type": "execute_result"
    }
   ],
   "source": [
    "# You can also use the data type explicitly specifying int8, uint8, float16, complex64,\n",
    "# and so forth.\n",
    "\n",
    "structured = np.array([(1, 'First', 0.5, 1+2j),(2, 'Second', 1.3,2-2j),\n",
    "(3, 'Third', 0.8, 1+3j)],dtype=('int16, S6, float32, complex64'))\n",
    "\n",
    "structured"
   ]
  },
  {
   "cell_type": "code",
   "execution_count": 8,
   "metadata": {},
   "outputs": [
    {
     "name": "stdout",
     "output_type": "stream",
     "text": [
      "(2, b'Second', 1.3, 2.-2.j)\n"
     ]
    }
   ],
   "source": [
    "print(structured[1])"
   ]
  },
  {
   "cell_type": "code",
   "execution_count": null,
   "metadata": {},
   "outputs": [
    {
     "name": "stdout",
     "output_type": "stream",
     "text": [
      "[1 2 3]\n",
      "[b'First' b'Second' b'Third']\n",
      "[0.5 1.3 0.8]\n",
      "[1.+2.j 2.-2.j 1.+3.j]\n"
     ]
    }
   ],
   "source": [
    "# You can call all elements of the same type by passing f (which stands for field) + position:\n",
    "print(structured['f0'])\n",
    "print(structured['f1'])\n",
    "print(structured['f2'])\n",
    "print(structured['f3'])"
   ]
  },
  {
   "cell_type": "code",
   "execution_count": 25,
   "metadata": {},
   "outputs": [
    {
     "data": {
      "text/plain": [
       "array([(1, b'First', 0.5, 1.+2.j), (2, b'Second', 1.3, 2.-2.j),\n",
       "       (3, b'Third', 0.8, 1.+3.j)],\n",
       "      dtype=[('id', '<i2'), ('position', 'S6'), ('value', '<f4'), ('complex', '<c8')])"
      ]
     },
     "execution_count": 25,
     "metadata": {},
     "output_type": "execute_result"
    }
   ],
   "source": [
    "# We can also pass aliases to field types, as if it were a dictionary:\n",
    "\n",
    "structured = np.array([(1,'First',0.5,1+2j), (2,'Second',1.3,2-2j), (3,'Third',0.8,1+3j)],\n",
    "dtype=[('id','i2'),('position','S6'),('value','f4'),('complex','c8')])\n",
    "\n",
    "structured"
   ]
  },
  {
   "cell_type": "code",
   "execution_count": 27,
   "metadata": {},
   "outputs": [
    {
     "data": {
      "text/plain": [
       "array([b'First', b'Second', b'Third'], dtype='|S6')"
      ]
     },
     "execution_count": 27,
     "metadata": {},
     "output_type": "execute_result"
    }
   ],
   "source": [
    "# And of course, call them by their alias:\n",
    "structured['position']"
   ]
  },
  {
   "cell_type": "markdown",
   "metadata": {},
   "source": [
    "### Reading and Writing Array Data on Files"
   ]
  },
  {
   "cell_type": "code",
   "execution_count": 28,
   "metadata": {},
   "outputs": [],
   "source": [
    "# NumPy provides a pair of functions called save() and load() that enable you to save\n",
    "# and then later retrieve data stored in binary format.\n",
    "\n",
    "data=([[ 0.86466285, 0.76943895, 0.22678279],\n",
    "[ 0.12452825, 0.54751384, 0.06499123],\n",
    "[ 0.06216566, 0.85045125, 0.92093862],\n",
    "[ 0.58401239, 0.93455057, 0.28972379]])"
   ]
  },
  {
   "cell_type": "code",
   "execution_count": 29,
   "metadata": {},
   "outputs": [],
   "source": [
    "# name of the ouput file, data you want to save\n",
    "np.save('saved_data',data)"
   ]
  },
  {
   "cell_type": "code",
   "execution_count": 30,
   "metadata": {},
   "outputs": [
    {
     "data": {
      "text/plain": [
       "array([[0.86466285, 0.76943895, 0.22678279],\n",
       "       [0.12452825, 0.54751384, 0.06499123],\n",
       "       [0.06216566, 0.85045125, 0.92093862],\n",
       "       [0.58401239, 0.93455057, 0.28972379]])"
      ]
     },
     "execution_count": 30,
     "metadata": {},
     "output_type": "execute_result"
    }
   ],
   "source": [
    "# When you need to recover the data stored in a .npy file, you use the load() function\n",
    "\n",
    "loaded_data = np.load('saved_data.npy')\n",
    "loaded_data"
   ]
  },
  {
   "cell_type": "markdown",
   "metadata": {},
   "source": [
    "#### Reading Files with Tabular Data"
   ]
  },
  {
   "cell_type": "code",
   "execution_count": null,
   "metadata": {},
   "outputs": [],
   "source": [
    "data = np.genfromtxt('ch3_data.csv', delimiter=',', names=True)\n",
    "data"
   ]
  }
 ],
 "metadata": {
  "kernelspec": {
   "display_name": "Python 3",
   "language": "python",
   "name": "python3"
  },
  "language_info": {
   "codemirror_mode": {
    "name": "ipython",
    "version": 3
   },
   "file_extension": ".py",
   "mimetype": "text/x-python",
   "name": "python",
   "nbconvert_exporter": "python",
   "pygments_lexer": "ipython3",
   "version": "3.12.1"
  }
 },
 "nbformat": 4,
 "nbformat_minor": 2
}
